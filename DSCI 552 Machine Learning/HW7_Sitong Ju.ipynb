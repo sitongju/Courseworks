{
 "cells": [
  {
   "cell_type": "markdown",
   "metadata": {
    "id": "ixSECKfHdT2t"
   },
   "source": [
    "# Homework 7\n",
    "\n",
    "#### Sitong Ju\n",
    "#### USC ID: 8791155953\n",
    "#### email: sitongju@usc.edu"
   ]
  },
  {
   "cell_type": "code",
   "execution_count": null,
   "metadata": {
    "colab": {
     "base_uri": "https://localhost:8080/"
    },
    "executionInfo": {
     "elapsed": 389,
     "status": "ok",
     "timestamp": 1638603862320,
     "user": {
      "displayName": "Sitong Ju",
      "photoUrl": "https://lh3.googleusercontent.com/a/default-user=s64",
      "userId": "00051253922247773168"
     },
     "user_tz": 480
    },
    "id": "eODUzMDjs4OC",
    "outputId": "537b2f2c-157b-4751-ba26-673125ec914a"
   },
   "outputs": [
    {
     "name": "stdout",
     "output_type": "stream",
     "text": [
      "Sat Dec  4 07:44:21 2021       \n",
      "+-----------------------------------------------------------------------------+\n",
      "| NVIDIA-SMI 495.44       Driver Version: 460.32.03    CUDA Version: 11.2     |\n",
      "|-------------------------------+----------------------+----------------------+\n",
      "| GPU  Name        Persistence-M| Bus-Id        Disp.A | Volatile Uncorr. ECC |\n",
      "| Fan  Temp  Perf  Pwr:Usage/Cap|         Memory-Usage | GPU-Util  Compute M. |\n",
      "|                               |                      |               MIG M. |\n",
      "|===============================+======================+======================|\n",
      "|   0  Tesla P100-PCIE...  Off  | 00000000:00:04.0 Off |                    0 |\n",
      "| N/A   37C    P0    28W / 250W |      0MiB / 16280MiB |      0%      Default |\n",
      "|                               |                      |                  N/A |\n",
      "+-------------------------------+----------------------+----------------------+\n",
      "                                                                               \n",
      "+-----------------------------------------------------------------------------+\n",
      "| Processes:                                                                  |\n",
      "|  GPU   GI   CI        PID   Type   Process name                  GPU Memory |\n",
      "|        ID   ID                                                   Usage      |\n",
      "|=============================================================================|\n",
      "|  No running processes found                                                 |\n",
      "+-----------------------------------------------------------------------------+\n"
     ]
    }
   ],
   "source": [
    "# connect to colab gpu\n",
    "gpu_info = !nvidia-smi\n",
    "gpu_info = '\\n'.join(gpu_info)\n",
    "if gpu_info.find('failed') >= 0:\n",
    "  print('Not connected to a GPU')\n",
    "else:\n",
    "  print(gpu_info)"
   ]
  },
  {
   "cell_type": "markdown",
   "metadata": {
    "id": "yQouwNMp1_Zg"
   },
   "source": [
    "# 1. Generative Models for Text"
   ]
  },
  {
   "cell_type": "code",
   "execution_count": null,
   "metadata": {
    "id": "9Xy7FAO2Vlp-"
   },
   "outputs": [],
   "source": [
    "import os\n",
    "import numpy as np\n",
    "import tensorflow as tf\n",
    "from tensorflow import keras\n",
    "from tensorflow.keras.models import Sequential\n",
    "from tensorflow.keras.layers import Dense,Dropout,LSTM\n",
    "from tensorflow.keras.callbacks import ModelCheckpoint\n",
    "from keras.utils import np_utils\n",
    "import glob"
   ]
  },
  {
   "cell_type": "markdown",
   "metadata": {
    "id": "A7__f8jdc3qq"
   },
   "source": [
    "\n",
    "\n",
    "\n",
    "### 1(c)i. Concatenate your text files to create a corpus of Russell’s writings.\n",
    "\n",
    "\n"
   ]
  },
  {
   "cell_type": "code",
   "execution_count": null,
   "metadata": {
    "colab": {
     "base_uri": "https://localhost:8080/"
    },
    "executionInfo": {
     "elapsed": 195,
     "status": "ok",
     "timestamp": 1638601475264,
     "user": {
      "displayName": "Sitong Ju",
      "photoUrl": "https://lh3.googleusercontent.com/a/default-user=s64",
      "userId": "00051253922247773168"
     },
     "user_tz": 480
    },
    "id": "336U1V4-XHhu",
    "outputId": "c68b5240-02c9-4dc0-fabe-5b7148fa56f5"
   },
   "outputs": [
    {
     "data": {
      "text/plain": [
       "['/content/drive/My Drive/Colab_Notebooks/TAM.txt',\n",
       " '/content/drive/My Drive/Colab_Notebooks/OKEWFSMP.txt',\n",
       " '/content/drive/My Drive/Colab_Notebooks/TAMatter.txt',\n",
       " '/content/drive/My Drive/Colab_Notebooks/THWP.txt',\n",
       " '/content/drive/My Drive/Colab_Notebooks/TPP.txt',\n",
       " '/content/drive/My Drive/Colab_Notebooks/AIIMAT.txt',\n",
       " '/content/drive/My Drive/Colab_Notebooks/MLOE.txt']"
      ]
     },
     "execution_count": 4,
     "metadata": {},
     "output_type": "execute_result"
    }
   ],
   "source": [
    "#local_dir = '/data/*.txt'\n",
    "#drive_dir = '/content/drive/My Drive/Colab_Notebooks/'\n",
    "drive_dir = '../data/'\n",
    "files_list = glob.glob(drive_dir + '*.txt')\n",
    "files_list"
   ]
  },
  {
   "cell_type": "code",
   "execution_count": null,
   "metadata": {
    "id": "FAN_bK5Gmd56"
   },
   "outputs": [],
   "source": [
    "def readFile(path):\n",
    "    with open(f, encoding='ascii', errors='ignore') as myfile:\n",
    "        corpus = myfile.read()\n",
    "    corpus = corpus.lower()\n",
    "    return corpus\n",
    "\n",
    "file0 = readFile(files_list[0])\n",
    "file1= readFile(files_list[1])\n",
    "file2 = readFile(files_list[2])\n",
    "file3 = readFile(files_list[3])\n",
    "file4 = readFile(files_list[4])\n",
    "file5 = readFile(files_list[5])\n",
    "file6 = readFile(files_list[6])\n",
    "corpus = [file0, file1, file2, file3, file4, file5, file6]"
   ]
  },
  {
   "cell_type": "code",
   "execution_count": null,
   "metadata": {
    "colab": {
     "base_uri": "https://localhost:8080/",
     "height": 174
    },
    "executionInfo": {
     "elapsed": 219,
     "status": "ok",
     "timestamp": 1638573825088,
     "user": {
      "displayName": "Sitong Ju",
      "photoUrl": "https://lh3.googleusercontent.com/a/default-user=s64",
      "userId": "00051253922247773168"
     },
     "user_tz": 480
    },
    "id": "wDLw-V_QnDqh",
    "outputId": "ab242aa5-e75c-4a81-d2f0-068a3fc7abef"
   },
   "outputs": [
    {
     "data": {
      "application/vnd.google.colaboratory.intrinsic+json": {
       "type": "string"
      },
      "text/plain": [
       "'mysticism and logic and other essays\\n\\n\\n\\n\\ni\\n\\nmysticism and logic\\n\\n\\nmetaphysics, or the attempt to conceive the world as a whole by means\\nof thought, has been developed, from the first, by the union and\\nconflict of two very different human impulses, the one urging men\\ntowards mysticism, the other urging them towards science. some men\\nhave achieved greatness through one of these impulses alone, others\\nthrough the other alone: in hume, for example, the scientific impulse\\nreigns quite unchecked, while in blake a strong hostility to science\\nco-exists with profound mystic insight. but the greatest men who have\\nbeen philosophers have felt the need both of science and of mysticism:\\nthe attempt to harmonise the two was what made their life, and what\\nalways must, for all its arduous uncertainty, make philosophy, to some\\nminds, a greater thing than either science or religion.\\n\\nbefore attempting an explicit characterisation of the scientific and\\nthe mystical impulses, i will illustrate them by exam'"
      ]
     },
     "execution_count": 20,
     "metadata": {},
     "output_type": "execute_result"
    }
   ],
   "source": [
    "file0[:1000]"
   ]
  },
  {
   "cell_type": "markdown",
   "metadata": {
    "id": "fn_JVHxif8tM"
   },
   "source": [
    "### 1(c)ii. Use a character-level representation for this model by using extended ASCII that has N = 256 characters. Each character will be encoded into a an integer using its ASCII code. Rescale the integers to the range [0, 1], because LSTM uses a sigmoid activation function. LSTM will receive the rescaled integers as its input."
   ]
  },
  {
   "cell_type": "code",
   "execution_count": null,
   "metadata": {
    "id": "v-ZiTwOcnShl"
   },
   "outputs": [],
   "source": [
    "chars = []\n",
    "for n in corpus:\n",
    "    chars.extend(list(set(set(n))))\n",
    "\n",
    "chars = sorted(list(set(chars)))\n",
    "char_dict = dict((c, i) for i, c in enumerate(chars))\n",
    "int_dict = dict((i, c) for i, c in enumerate(chars))"
   ]
  },
  {
   "cell_type": "markdown",
   "metadata": {
    "id": "MA4WPlRahJwb"
   },
   "source": [
    "### 1(c)iv. Inputs to the network will be the first W −1 = 99 characters of each sequence, and the output of the network will be the Wth character of the sequence. Basically, we are training the network to predict each character using the 99 characters that precede it. Slide the window in strides of S = 1 on the text. For example, if W = 5 and S = 1 and we want to train the network with the sequence ABRACADABRA, The first input to the network will be ABRA and the corresponding output will be C. The second input will be BRAC and the second output will be A, etc."
   ]
  },
  {
   "cell_type": "code",
   "execution_count": null,
   "metadata": {
    "id": "yGgEiZNbnekG"
   },
   "outputs": [],
   "source": [
    "for n in corpus:\n",
    "    windowsize = 100\n",
    "    input_sequence = []\n",
    "    output_sequence = []\n",
    "\n",
    "    input_temp = []\n",
    "    output_temp = []\n",
    "    for w in range(0, len(n)-windowsize+1, 1):\n",
    "        seqIn = n[w:w+windowsize-1]\n",
    "        seqOut = n[w+windowsize-1]\n",
    "\n",
    "        input_temp.append([char_dict[c] for c in seqIn])\n",
    "        output_temp.append(char_dict[seqOut])\n",
    "\n",
    "    input_sequence.extend(input_temp)\n",
    "    output_sequence.extend(output_temp)\n",
    "\n"
   ]
  },
  {
   "cell_type": "code",
   "execution_count": null,
   "metadata": {
    "colab": {
     "base_uri": "https://localhost:8080/"
    },
    "executionInfo": {
     "elapsed": 189,
     "status": "ok",
     "timestamp": 1638574349090,
     "user": {
      "displayName": "Sitong Ju",
      "photoUrl": "https://lh3.googleusercontent.com/a/default-user=s64",
      "userId": "00051253922247773168"
     },
     "user_tz": 480
    },
    "id": "zA_idMi7njo8",
    "outputId": "3974bd67-cd70-445b-b88d-d239a5332c09"
   },
   "outputs": [
    {
     "name": "stdout",
     "output_type": "stream",
     "text": [
      "(412127, 99, 1)\n"
     ]
    }
   ],
   "source": [
    "input_sequence = np.reshape(input_sequence, (len(input_sequence), windowsize-1, 1))\n",
    "print(input_sequence.shape)\n",
    "\n",
    "# normalize\n",
    "input_sequence = input_sequence / float(len(chars))"
   ]
  },
  {
   "cell_type": "markdown",
   "metadata": {
    "id": "nvF6dKWrkT4c"
   },
   "source": [
    "### 1(c)v. Note that the output has to be encoded using a one-hot encoding scheme with N = 256 (or less) elements. This means that the network reads integers, but outputs a vector of N = 256 (or less) elements."
   ]
  },
  {
   "cell_type": "code",
   "execution_count": null,
   "metadata": {
    "id": "z7Wmty2upNJ4"
   },
   "outputs": [],
   "source": [
    "output_sequence = np_utils.to_categorical(output_sequence)"
   ]
  },
  {
   "cell_type": "markdown",
   "metadata": {
    "id": "PPoF4vhSlxx_"
   },
   "source": [
    "### 1(c)vi. - x. Single layer LSTM"
   ]
  },
  {
   "cell_type": "code",
   "execution_count": null,
   "metadata": {
    "colab": {
     "base_uri": "https://localhost:8080/"
    },
    "executionInfo": {
     "elapsed": 414,
     "status": "ok",
     "timestamp": 1638574425093,
     "user": {
      "displayName": "Sitong Ju",
      "photoUrl": "https://lh3.googleusercontent.com/a/default-user=s64",
      "userId": "00051253922247773168"
     },
     "user_tz": 480
    },
    "id": "bqFX2ugppV_t",
    "outputId": "967f0c48-1c11-44f2-f92a-1f1fa5d4ad75"
   },
   "outputs": [
    {
     "name": "stdout",
     "output_type": "stream",
     "text": [
      "Model: \"sequential_2\"\n",
      "_________________________________________________________________\n",
      " Layer (type)                Output Shape              Param #   \n",
      "=================================================================\n",
      " lstm_2 (LSTM)               (None, 256)               264192    \n",
      "                                                                 \n",
      " dropout_2 (Dropout)         (None, 256)               0         \n",
      "                                                                 \n",
      " dense_2 (Dense)             (None, 57)                14649     \n",
      "                                                                 \n",
      "=================================================================\n",
      "Total params: 278,841\n",
      "Trainable params: 278,841\n",
      "Non-trainable params: 0\n",
      "_________________________________________________________________\n",
      "None\n"
     ]
    }
   ],
   "source": [
    "# define the LSTM model\n",
    "LSTM_model = Sequential()\n",
    "LSTM_model.add(LSTM(256, input_shape=(input_sequence.shape[1], input_sequence.shape[2])))\n",
    "LSTM_model.add(Dropout(0.2))\n",
    "LSTM_model.add(Dense(output_sequence.shape[1], activation='softmax'))\n",
    "print(LSTM_model.summary())\n",
    "\n",
    "LSTM_model.compile(loss='categorical_crossentropy', optimizer='adam')\n",
    "\n",
    "filepath = drive_dir + \"./LSTMweights/weights-improvement-{epoch:02d}-{loss:.2f}-bigger.hdf5\"\n",
    "checkpoint = ModelCheckpoint(filepath, monitor='loss', verbose=1, save_best_only=True, mode='min')\n",
    "callbacks_list = [checkpoint]"
   ]
  },
  {
   "cell_type": "code",
   "execution_count": null,
   "metadata": {
    "colab": {
     "base_uri": "https://localhost:8080/"
    },
    "executionInfo": {
     "elapsed": 2123664,
     "status": "ok",
     "timestamp": 1638576582506,
     "user": {
      "displayName": "Sitong Ju",
      "photoUrl": "https://lh3.googleusercontent.com/a/default-user=s64",
      "userId": "00051253922247773168"
     },
     "user_tz": 480
    },
    "id": "UTaWqVMbpfdh",
    "outputId": "0b486d7b-c595-4991-d1db-fba75b870f56"
   },
   "outputs": [
    {
     "name": "stdout",
     "output_type": "stream",
     "text": [
      "Epoch 1/30\n",
      "6438/6440 [============================>.] - ETA: 0s - loss: 2.8117\n",
      "Epoch 00001: loss improved from inf to 2.81176, saving model to /Users/changhsinyu/Desktop/INF552Homework6/LSTMweights/weights-improvement-01-2.8118-bigger.hdf5\n",
      "6440/6440 [==============================] - 71s 11ms/step - loss: 2.8118\n",
      "Epoch 2/30\n",
      "6440/6440 [==============================] - ETA: 0s - loss: 2.6340\n",
      "Epoch 00002: loss improved from 2.81176 to 2.63403, saving model to /Users/changhsinyu/Desktop/INF552Homework6/LSTMweights/weights-improvement-02-2.6340-bigger.hdf5\n",
      "6440/6440 [==============================] - 70s 11ms/step - loss: 2.6340\n",
      "Epoch 3/30\n",
      "6439/6440 [============================>.] - ETA: 0s - loss: 2.5014\n",
      "Epoch 00003: loss improved from 2.63403 to 2.50134, saving model to /Users/changhsinyu/Desktop/INF552Homework6/LSTMweights/weights-improvement-03-2.5013-bigger.hdf5\n",
      "6440/6440 [==============================] - 69s 11ms/step - loss: 2.5013\n",
      "Epoch 4/30\n",
      "6440/6440 [==============================] - ETA: 0s - loss: 2.3756\n",
      "Epoch 00004: loss improved from 2.50134 to 2.37558, saving model to /Users/changhsinyu/Desktop/INF552Homework6/LSTMweights/weights-improvement-04-2.3756-bigger.hdf5\n",
      "6440/6440 [==============================] - 70s 11ms/step - loss: 2.3756\n",
      "Epoch 5/30\n",
      "6437/6440 [============================>.] - ETA: 0s - loss: 2.2698\n",
      "Epoch 00005: loss improved from 2.37558 to 2.26974, saving model to /Users/changhsinyu/Desktop/INF552Homework6/LSTMweights/weights-improvement-05-2.2697-bigger.hdf5\n",
      "6440/6440 [==============================] - 70s 11ms/step - loss: 2.2697\n",
      "Epoch 6/30\n",
      "6439/6440 [============================>.] - ETA: 0s - loss: 2.1928\n",
      "Epoch 00006: loss improved from 2.26974 to 2.19283, saving model to /Users/changhsinyu/Desktop/INF552Homework6/LSTMweights/weights-improvement-06-2.1928-bigger.hdf5\n",
      "6440/6440 [==============================] - 69s 11ms/step - loss: 2.1928\n",
      "Epoch 7/30\n",
      "6439/6440 [============================>.] - ETA: 0s - loss: 2.1335\n",
      "Epoch 00007: loss improved from 2.19283 to 2.13350, saving model to /Users/changhsinyu/Desktop/INF552Homework6/LSTMweights/weights-improvement-07-2.1335-bigger.hdf5\n",
      "6440/6440 [==============================] - 70s 11ms/step - loss: 2.1335\n",
      "Epoch 8/30\n",
      "6436/6440 [============================>.] - ETA: 0s - loss: 2.0858\n",
      "Epoch 00008: loss improved from 2.13350 to 2.08573, saving model to /Users/changhsinyu/Desktop/INF552Homework6/LSTMweights/weights-improvement-08-2.0857-bigger.hdf5\n",
      "6440/6440 [==============================] - 70s 11ms/step - loss: 2.0857\n",
      "Epoch 9/30\n",
      "6438/6440 [============================>.] - ETA: 0s - loss: 2.0428\n",
      "Epoch 00009: loss improved from 2.08573 to 2.04278, saving model to /Users/changhsinyu/Desktop/INF552Homework6/LSTMweights/weights-improvement-09-2.0428-bigger.hdf5\n",
      "6440/6440 [==============================] - 70s 11ms/step - loss: 2.0428\n",
      "Epoch 10/30\n",
      "6440/6440 [==============================] - ETA: 0s - loss: 2.0069\n",
      "Epoch 00010: loss improved from 2.04278 to 2.00691, saving model to /Users/changhsinyu/Desktop/INF552Homework6/LSTMweights/weights-improvement-10-2.0069-bigger.hdf5\n",
      "6440/6440 [==============================] - 70s 11ms/step - loss: 2.0069\n",
      "Epoch 11/30\n",
      "6436/6440 [============================>.] - ETA: 0s - loss: 1.9767\n",
      "Epoch 00011: loss improved from 2.00691 to 1.97667, saving model to /Users/changhsinyu/Desktop/INF552Homework6/LSTMweights/weights-improvement-11-1.9767-bigger.hdf5\n",
      "6440/6440 [==============================] - 70s 11ms/step - loss: 1.9767\n",
      "Epoch 12/30\n",
      "6439/6440 [============================>.] - ETA: 0s - loss: 1.9521\n",
      "Epoch 00012: loss improved from 1.97667 to 1.95208, saving model to /Users/changhsinyu/Desktop/INF552Homework6/LSTMweights/weights-improvement-12-1.9521-bigger.hdf5\n",
      "6440/6440 [==============================] - 69s 11ms/step - loss: 1.9521\n",
      "Epoch 13/30\n",
      "6439/6440 [============================>.] - ETA: 0s - loss: 1.9270\n",
      "Epoch 00013: loss improved from 1.95208 to 1.92703, saving model to /Users/changhsinyu/Desktop/INF552Homework6/LSTMweights/weights-improvement-13-1.9270-bigger.hdf5\n",
      "6440/6440 [==============================] - 69s 11ms/step - loss: 1.9270\n",
      "Epoch 14/30\n",
      "6437/6440 [============================>.] - ETA: 0s - loss: 1.9052\n",
      "Epoch 00014: loss improved from 1.92703 to 1.90523, saving model to /Users/changhsinyu/Desktop/INF552Homework6/LSTMweights/weights-improvement-14-1.9052-bigger.hdf5\n",
      "6440/6440 [==============================] - 70s 11ms/step - loss: 1.9052\n",
      "Epoch 15/30\n",
      "6439/6440 [============================>.] - ETA: 0s - loss: 1.8870\n",
      "Epoch 00015: loss improved from 1.90523 to 1.88702, saving model to /Users/changhsinyu/Desktop/INF552Homework6/LSTMweights/weights-improvement-15-1.8870-bigger.hdf5\n",
      "6440/6440 [==============================] - 69s 11ms/step - loss: 1.8870\n",
      "Epoch 16/30\n",
      "6440/6440 [==============================] - ETA: 0s - loss: 1.8686\n",
      "Epoch 00016: loss improved from 1.88702 to 1.86858, saving model to /Users/changhsinyu/Desktop/INF552Homework6/LSTMweights/weights-improvement-16-1.8686-bigger.hdf5\n",
      "6440/6440 [==============================] - 69s 11ms/step - loss: 1.8686\n",
      "Epoch 17/30\n",
      "6440/6440 [==============================] - ETA: 0s - loss: 1.8540\n",
      "Epoch 00017: loss improved from 1.86858 to 1.85399, saving model to /Users/changhsinyu/Desktop/INF552Homework6/LSTMweights/weights-improvement-17-1.8540-bigger.hdf5\n",
      "6440/6440 [==============================] - 69s 11ms/step - loss: 1.8540\n",
      "Epoch 18/30\n",
      "6439/6440 [============================>.] - ETA: 0s - loss: 1.8374\n",
      "Epoch 00018: loss improved from 1.85399 to 1.83740, saving model to /Users/changhsinyu/Desktop/INF552Homework6/LSTMweights/weights-improvement-18-1.8374-bigger.hdf5\n",
      "6440/6440 [==============================] - 69s 11ms/step - loss: 1.8374\n",
      "Epoch 19/30\n",
      "6440/6440 [==============================] - ETA: 0s - loss: 1.8254\n",
      "Epoch 00019: loss improved from 1.83740 to 1.82544, saving model to /Users/changhsinyu/Desktop/INF552Homework6/LSTMweights/weights-improvement-19-1.8254-bigger.hdf5\n",
      "6440/6440 [==============================] - 69s 11ms/step - loss: 1.8254\n",
      "Epoch 20/30\n",
      "6439/6440 [============================>.] - ETA: 0s - loss: 1.8153\n",
      "Epoch 00020: loss improved from 1.82544 to 1.81532, saving model to /Users/changhsinyu/Desktop/INF552Homework6/LSTMweights/weights-improvement-20-1.8153-bigger.hdf5\n",
      "6440/6440 [==============================] - 70s 11ms/step - loss: 1.8153\n",
      "Epoch 21/30\n",
      "6436/6440 [============================>.] - ETA: 0s - loss: 1.8021\n",
      "Epoch 00021: loss improved from 1.81532 to 1.80207, saving model to /Users/changhsinyu/Desktop/INF552Homework6/LSTMweights/weights-improvement-21-1.8021-bigger.hdf5\n",
      "6440/6440 [==============================] - 70s 11ms/step - loss: 1.8021\n",
      "Epoch 22/30\n",
      "6440/6440 [==============================] - ETA: 0s - loss: 1.7917\n",
      "Epoch 00022: loss improved from 1.80207 to 1.79169, saving model to /Users/changhsinyu/Desktop/INF552Homework6/LSTMweights/weights-improvement-22-1.7917-bigger.hdf5\n",
      "6440/6440 [==============================] - 70s 11ms/step - loss: 1.7917\n",
      "Epoch 23/30\n",
      "6437/6440 [============================>.] - ETA: 0s - loss: 1.7985\n",
      "Epoch 00023: loss did not improve from 1.79169\n",
      "6440/6440 [==============================] - 70s 11ms/step - loss: 1.7985\n",
      "Epoch 24/30\n",
      "6439/6440 [============================>.] - ETA: 0s - loss: 1.7785\n",
      "Epoch 00024: loss improved from 1.79169 to 1.77855, saving model to /Users/changhsinyu/Desktop/INF552Homework6/LSTMweights/weights-improvement-24-1.7785-bigger.hdf5\n",
      "6440/6440 [==============================] - 70s 11ms/step - loss: 1.7785\n",
      "Epoch 25/30\n",
      "6438/6440 [============================>.] - ETA: 0s - loss: 1.7688\n",
      "Epoch 00025: loss improved from 1.77855 to 1.76875, saving model to /Users/changhsinyu/Desktop/INF552Homework6/LSTMweights/weights-improvement-25-1.7687-bigger.hdf5\n",
      "6440/6440 [==============================] - 70s 11ms/step - loss: 1.7687\n",
      "Epoch 26/30\n",
      "6437/6440 [============================>.] - ETA: 0s - loss: 1.7622\n",
      "Epoch 00026: loss improved from 1.76875 to 1.76225, saving model to /Users/changhsinyu/Desktop/INF552Homework6/LSTMweights/weights-improvement-26-1.7623-bigger.hdf5\n",
      "6440/6440 [==============================] - 70s 11ms/step - loss: 1.7623\n",
      "Epoch 27/30\n",
      "6436/6440 [============================>.] - ETA: 0s - loss: 1.8903\n",
      "Epoch 00027: loss did not improve from 1.76225\n",
      "6440/6440 [==============================] - 70s 11ms/step - loss: 1.8904\n",
      "Epoch 28/30\n",
      "6437/6440 [============================>.] - ETA: 0s - loss: 1.7615\n",
      "Epoch 00028: loss improved from 1.76225 to 1.76149, saving model to /Users/changhsinyu/Desktop/INF552Homework6/LSTMweights/weights-improvement-28-1.7615-bigger.hdf5\n",
      "6440/6440 [==============================] - 70s 11ms/step - loss: 1.7615\n",
      "Epoch 29/30\n",
      "6439/6440 [============================>.] - ETA: 0s - loss: 1.7465\n",
      "Epoch 00029: loss improved from 1.76149 to 1.74649, saving model to /Users/changhsinyu/Desktop/INF552Homework6/LSTMweights/weights-improvement-29-1.7465-bigger.hdf5\n",
      "6440/6440 [==============================] - 70s 11ms/step - loss: 1.7465\n",
      "Epoch 30/30\n",
      "6437/6440 [============================>.] - ETA: 0s - loss: 1.7387\n",
      "Epoch 00030: loss improved from 1.74649 to 1.73868, saving model to /Users/changhsinyu/Desktop/INF552Homework6/LSTMweights/weights-improvement-30-1.7387-bigger.hdf5\n",
      "6440/6440 [==============================] - 70s 11ms/step - loss: 1.7387\n"
     ]
    },
    {
     "data": {
      "text/plain": [
       "<keras.callbacks.History at 0x7f4a764df850>"
      ]
     },
     "execution_count": 29,
     "metadata": {},
     "output_type": "execute_result"
    }
   ],
   "source": [
    "LSTM_model.fit(input_sequence, output_sequence, epochs=30, batch_size=64, callbacks=callbacks_list)"
   ]
  },
  {
   "cell_type": "markdown",
   "metadata": {
    "id": "ZSRhtp6jDH6B"
   },
   "source": [
    "### 1(c)xi. Use the network with the best weights to generate 1000 characters, using the following text as initialization of the network:\n",
    "There are those who take mental phenomena naively, just as they would physical phenomena. This school of psychologists tends not to emphasize the object."
   ]
  },
  {
   "cell_type": "code",
   "execution_count": null,
   "metadata": {
    "colab": {
     "base_uri": "https://localhost:8080/"
    },
    "executionInfo": {
     "elapsed": 35835,
     "status": "ok",
     "timestamp": 1638576727072,
     "user": {
      "displayName": "Sitong Ju",
      "photoUrl": "https://lh3.googleusercontent.com/a/default-user=s64",
      "userId": "00051253922247773168"
     },
     "user_tz": 480
    },
    "id": "hyUrk61zx9yC",
    "outputId": "70a26982-4671-4b83-df09-173aaa6fa8d6"
   },
   "outputs": [
    {
     "name": "stdout",
     "output_type": "stream",
     "text": [
      "There are those who take mental phenomena naively, just as they would physical phenomena. This school of psychologists tends not to emphasize the object. and the seeendi of the somet ay in the semeei of the somet oy to ae aeletved by the sometian areene of the somet ay in a cirtance oo the somethsn oe the porsibieit of the somet oy to ae aeletved by the sometian are the same tiree ir the some thing in the some peanines of the porsible oot seem to be a centein tore things of the somet oy to ae aeletved by the sometisn oe the porsibieit of the somet oy to ae aeletved by the sometian areene of the somet ay in a cirtance oo the somethsn oe the porsibieit of the somet oy to ae aeletved by the sometian are the same tiree ir the some thing in the some peanines of the porsible oot seem to be a centein tore things of the somet oy to ae aeletved by the sometisn oe the porsibieit of the somet oy to ae aeletved by the sometian areene of the somet ay in a cirtance oo the somethsn oe the porsibieit of the somet oy to ae aeletved by the sometian are the same tiree ir the some thing in the some peanines of the porsible oot seem to be a centein tore th\n"
     ]
    }
   ],
   "source": [
    "text_init = 'There are those who take mental phenomena naively, just as they would physical phenomena. This school of psychologists tends not to emphasize the object.'\n",
    "\n",
    "generate = [char_dict[c] for c in text_init[-99:].lower()]\n",
    "\n",
    "for i in range(1000):\n",
    "    seq = np.reshape(generate, (1, len(generate), 1))\n",
    "    seq = seq / float(len(chars))\n",
    "    pred_char = LSTM_model.predict(seq, verbose=0)\n",
    "    ind = np.argmax(pred_char)\n",
    "    text_init += int_dict[ind]\n",
    "    generate.append(ind)\n",
    "    generate = generate[1:len(generate)]\n",
    "\n",
    "print(text_init)"
   ]
  },
  {
   "cell_type": "markdown",
   "metadata": {
    "id": "KRRtnSfk1610"
   },
   "source": [
    "# 2. (Deep) CNNs for Image Colorization"
   ]
  },
  {
   "cell_type": "code",
   "execution_count": null,
   "metadata": {
    "id": "RSfFiAhT2FWg"
   },
   "outputs": [],
   "source": [
    "import os\n",
    "import numpy as np\n",
    "import matplotlib.pyplot as plt\n",
    "from sklearn.cluster import KMeans\n",
    "from skimage.color import rgb2gray\n",
    "from keras.utils import np_utils\n",
    "from keras.callbacks import Callback\n",
    "\n",
    "import tensorflow as tf\n",
    "import tensorflow.keras.backend as k\n",
    "from tensorflow.keras.layers import Activation\n",
    "from tensorflow import keras\n",
    "from tensorflow.keras.models import Sequential\n",
    "from tensorflow.keras.layers import Dense,Dropout,Flatten,Conv2D,MaxPooling2D\n",
    "from tensorflow.keras.callbacks import ModelCheckpoint"
   ]
  },
  {
   "cell_type": "markdown",
   "metadata": {
    "id": "XgWLVG7e4vxU"
   },
   "source": [
    "### 2(b) From the train and test dataset, extract the class birds. We will focus on this class, which has 6000 members."
   ]
  },
  {
   "cell_type": "code",
   "execution_count": null,
   "metadata": {
    "id": "j4ZFse6hRHta"
   },
   "outputs": [],
   "source": [
    "(x_train, y_train), (x_test, y_test) = keras.datasets.cifar10.load_data()"
   ]
  },
  {
   "cell_type": "code",
   "execution_count": null,
   "metadata": {
    "id": "pXDo8BNtRXLf"
   },
   "outputs": [],
   "source": [
    "# find bird samples\n",
    "bird_train_index, _ = np.where(y_train == 2)\n",
    "bird_test_index, _ = np.where(y_test == 2)\n",
    "\n",
    "bird_x_train = x_train[bird_train_index]\n",
    "bird_y_train = y_train[bird_train_index]\n",
    "bird_x_test = x_test[bird_test_index]\n",
    "bird_y_test = y_test[bird_test_index]\n",
    "\n",
    "bird_x = np.concatenate([bird_x_train, bird_x_test])\n",
    "bird_y = np.concatenate([bird_y_train, bird_y_test])"
   ]
  },
  {
   "cell_type": "code",
   "execution_count": null,
   "metadata": {
    "colab": {
     "base_uri": "https://localhost:8080/"
    },
    "executionInfo": {
     "elapsed": 231,
     "status": "ok",
     "timestamp": 1638676329472,
     "user": {
      "displayName": "Sitong Ju",
      "photoUrl": "https://lh3.googleusercontent.com/a/default-user=s64",
      "userId": "00051253922247773168"
     },
     "user_tz": 480
    },
    "id": "JjYHLbOKSyeP",
    "outputId": "92bd51c5-7977-47a4-91a0-b4a585d7103f"
   },
   "outputs": [
    {
     "data": {
      "text/plain": [
       "(6000, 32, 32, 3)"
      ]
     },
     "execution_count": 111,
     "metadata": {},
     "output_type": "execute_result"
    }
   ],
   "source": [
    "bird_x.shape"
   ]
  },
  {
   "cell_type": "markdown",
   "metadata": {
    "id": "Gf6VjDIi6Pxt"
   },
   "source": [
    "### 2(c) Those 6000 images have 6000 × 32 × 32 pixels. Choose at least 10% of the pixels randomly. It is strongly recommended that you choose a large number or all of the pixels. You will have between P = 614400 and P = 6144000 pixels. Each pixel is an RGB vector with three elements."
   ]
  },
  {
   "cell_type": "code",
   "execution_count": null,
   "metadata": {
    "colab": {
     "base_uri": "https://localhost:8080/"
    },
    "executionInfo": {
     "elapsed": 1830,
     "status": "ok",
     "timestamp": 1638676334710,
     "user": {
      "displayName": "Sitong Ju",
      "photoUrl": "https://lh3.googleusercontent.com/a/default-user=s64",
      "userId": "00051253922247773168"
     },
     "user_tz": 480
    },
    "id": "L0NmzWdo6RXB",
    "outputId": "94b7ead5-c085-4fc7-dad7-4d6b9fe0f142"
   },
   "outputs": [
    {
     "name": "stdout",
     "output_type": "stream",
     "text": [
      "Ndarray of selected pixels:  (614400, 3)\n"
     ]
    }
   ],
   "source": [
    "pct = 0.1\n",
    "#numPix = bird_x.shape[0] * bird_x.shape[1] * bird_x.shape[2]\n",
    "pix_num = 6000 * 32 * 32\n",
    "pix_random_num = int(pix_num * pct)\n",
    "\n",
    "random_index = np.random.choice(pix_num, pix_random_num)\n",
    "img_index = [i // 1024 for i in random_index]\n",
    "row_index = [i % 1024 // 32 for i in random_index]\n",
    "col_index = [i % 1024 % 32 for i in random_index]\n",
    "pix_index = (img_index, row_index, col_index)\n",
    "selected_pix = bird_x[pix_index]\n",
    "print('Ndarray of selected pixels: ', selected_pix.shape)\n",
    "#print(selected_pix[:10])"
   ]
  },
  {
   "cell_type": "markdown",
   "metadata": {
    "id": "omsl0g_n62KX"
   },
   "source": [
    "### 2(d) Run k-means clustering on the P vectors using k = 4. The centers of the clusters will be your main colors. Convert the colored images to k-color images by converting each pixel’s value to the closest main color in terms of Euclidean distance. These are the outputs of your network, whose each pixel falls in one of those k classes."
   ]
  },
  {
   "cell_type": "code",
   "execution_count": null,
   "metadata": {
    "id": "u3IlN-L_66mV"
   },
   "outputs": [],
   "source": [
    "image_kmeans = KMeans(n_clusters=4, random_state=0).fit(selected_pix) \n",
    "cluscenter = image_kmeans.cluster_centers_.astype(np.uint8())"
   ]
  },
  {
   "cell_type": "code",
   "execution_count": null,
   "metadata": {
    "colab": {
     "base_uri": "https://localhost:8080/"
    },
    "executionInfo": {
     "elapsed": 223,
     "status": "ok",
     "timestamp": 1638676346956,
     "user": {
      "displayName": "Sitong Ju",
      "photoUrl": "https://lh3.googleusercontent.com/a/default-user=s64",
      "userId": "00051253922247773168"
     },
     "user_tz": 480
    },
    "id": "PW6OCB1y8Nxy",
    "outputId": "53cb91ee-0630-4b41-e4d5-477a79977566"
   },
   "outputs": [
    {
     "data": {
      "text/plain": [
       "array([[207, 212, 212],\n",
       "       [ 48,  49,  38],\n",
       "       [156, 156, 136],\n",
       "       [109, 108,  83]], dtype=uint8)"
      ]
     },
     "execution_count": 114,
     "metadata": {},
     "output_type": "execute_result"
    }
   ],
   "source": [
    "cluscenter"
   ]
  },
  {
   "cell_type": "code",
   "execution_count": null,
   "metadata": {
    "colab": {
     "base_uri": "https://localhost:8080/"
    },
    "executionInfo": {
     "elapsed": 16168,
     "status": "ok",
     "timestamp": 1638676386364,
     "user": {
      "displayName": "Sitong Ju",
      "photoUrl": "https://lh3.googleusercontent.com/a/default-user=s64",
      "userId": "00051253922247773168"
     },
     "user_tz": 480
    },
    "id": "F30HFLHB8p2V",
    "outputId": "508cc19e-4270-471d-c3cd-4247cb1c74bc"
   },
   "outputs": [
    {
     "name": "stdout",
     "output_type": "stream",
     "text": [
      "(6000, 32, 32, 3)\n"
     ]
    }
   ],
   "source": [
    "# A suggestion would be Navy = (0,0,128), Red =( 230, 25, 75), Mint = (170, 255, 195), and White = (255, 255, 255).\n",
    "\n",
    "# set main colors\n",
    "image_kmeans.cluster_centers_ = np.array([[0,0,128],\n",
    "                                    [230,25,75],\n",
    "                                    [170,255,195],\n",
    "                                    [55,255,255]]).astype(np.float)\n",
    "\n",
    "\n",
    "birds_in_kcolor = bird_x.reshape((-1, 3))\n",
    "\n",
    "#birds_in_kcolor_double = np.array(birds_in_kcolor, dtype=np.double)\n",
    "\n",
    "# converting each pixel’s value to the closest main color\n",
    "#def str2float(lst):\n",
    "#    for num in lst:\n",
    "#        num = float(num)\n",
    "#    return lst\n",
    "#birds_in_kcolor = birds_in_kcolor.tolist()\n",
    "#birds_in_kcolor = list(map(str2float,birds_in_kcolor))\n",
    "\n",
    "color_index = image_kmeans.predict(birds_in_kcolor)\n",
    "\n",
    "for i in range(birds_in_kcolor.shape[0]):\n",
    "  birds_in_kcolor[i] = np.copy(image_kmeans.cluster_centers_[color_index[i]])\n",
    "\n",
    "birds_in_kcolor = np.reshape(birds_in_kcolor, bird_x.shape)\n",
    "print(birds_in_kcolor.shape)"
   ]
  },
  {
   "cell_type": "markdown",
   "metadata": {
    "id": "c1NDdwSvktTP"
   },
   "source": [
    "### 2(e) Use any tool (e.g., openCV or scikit-learn) to obtain grayscale 32 × 32 × 1 images from the original 32 × 32 × 3 images. The grayscale images are inputs of your network."
   ]
  },
  {
   "cell_type": "code",
   "execution_count": null,
   "metadata": {
    "id": "QZoIQPqOkwSi"
   },
   "outputs": [],
   "source": [
    "grayscale = np.expand_dims(rgb2gray(bird_x), axis=-1)"
   ]
  },
  {
   "cell_type": "code",
   "execution_count": null,
   "metadata": {
    "colab": {
     "base_uri": "https://localhost:8080/",
     "height": 283
    },
    "executionInfo": {
     "elapsed": 270,
     "status": "ok",
     "timestamp": 1638676394265,
     "user": {
      "displayName": "Sitong Ju",
      "photoUrl": "https://lh3.googleusercontent.com/a/default-user=s64",
      "userId": "00051253922247773168"
     },
     "user_tz": 480
    },
    "id": "u2Tk3yf8gGC8",
    "outputId": "ca41abaa-1455-410d-e98f-9d62c033fcd1"
   },
   "outputs": [
    {
     "data": {
      "text/plain": [
       "<matplotlib.image.AxesImage at 0x7f4d8a3c2490>"
      ]
     },
     "execution_count": 118,
     "metadata": {},
     "output_type": "execute_result"
    },
    {
     "data": {
      "image/png": "[encoded data removed]",
      "text/plain": [
       "<Figure size 432x288 with 1 Axes>"
      ]
     },
     "metadata": {
      "needs_background": "light"
     },
     "output_type": "display_data"
    }
   ],
   "source": [
    "plt.imshow(bird_x[2])"
   ]
  },
  {
   "cell_type": "code",
   "execution_count": null,
   "metadata": {
    "colab": {
     "base_uri": "https://localhost:8080/",
     "height": 283
    },
    "executionInfo": {
     "elapsed": 517,
     "status": "ok",
     "timestamp": 1638676396205,
     "user": {
      "displayName": "Sitong Ju",
      "photoUrl": "https://lh3.googleusercontent.com/a/default-user=s64",
      "userId": "00051253922247773168"
     },
     "user_tz": 480
    },
    "id": "_njUwuMgk77k",
    "outputId": "1f932e16-c8b3-49e8-a1cc-a2b0d72725d8"
   },
   "outputs": [
    {
     "data": {
      "text/plain": [
       "<matplotlib.image.AxesImage at 0x7f4e222c9190>"
      ]
     },
     "execution_count": 119,
     "metadata": {},
     "output_type": "execute_result"
    },
    {
     "data": {
      "image/png": "[encoded data removed]",
      "text/plain": [
       "<Figure size 432x288 with 1 Axes>"
      ]
     },
     "metadata": {
      "needs_background": "light"
     },
     "output_type": "display_data"
    }
   ],
   "source": [
    "plt.imshow(birds_in_kcolor[2])"
   ]
  },
  {
   "cell_type": "code",
   "execution_count": null,
   "metadata": {
    "colab": {
     "base_uri": "https://localhost:8080/",
     "height": 283
    },
    "executionInfo": {
     "elapsed": 548,
     "status": "ok",
     "timestamp": 1638676398582,
     "user": {
      "displayName": "Sitong Ju",
      "photoUrl": "https://lh3.googleusercontent.com/a/default-user=s64",
      "userId": "00051253922247773168"
     },
     "user_tz": 480
    },
    "id": "an87plzrgTJf",
    "outputId": "3736d0b7-74bf-4c92-f4cf-40d13cb78414"
   },
   "outputs": [
    {
     "data": {
      "text/plain": [
       "<matplotlib.image.AxesImage at 0x7f4e15236cd0>"
      ]
     },
     "execution_count": 120,
     "metadata": {},
     "output_type": "execute_result"
    },
    {
     "data": {
      "image/png": "[encoded data removed]",
      "text/plain": [
       "<Figure size 432x288 with 1 Axes>"
      ]
     },
     "metadata": {
      "needs_background": "light"
     },
     "output_type": "display_data"
    }
   ],
   "source": [
    "plt.imshow(np.stack((grayscale[2, :, :, 0], ) * 3, axis=-1), cmap='gray')"
   ]
  }
 ],
 "metadata": {
  "accelerator": "GPU",
  "colab": {
   "authorship_tag": "ABX9TyN6smENmWatFslYfGTpcKKl",
   "mount_file_id": "1SuUpA5Nv2NostiSHVWiPGBQy6UinGHy5",
   "name": "HW7_Sitong Ju.ipynb",
   "provenance": []
  },
  "kernelspec": {
   "display_name": "Python 3",
   "language": "python",
   "name": "python3"
  },
  "language_info": {
   "codemirror_mode": {
    "name": "ipython",
    "version": 3
   },
   "file_extension": ".py",
   "mimetype": "text/x-python",
   "name": "python",
   "nbconvert_exporter": "python",
   "pygments_lexer": "ipython3",
   "version": "3.8.8"
  }
 },
 "nbformat": 4,
 "nbformat_minor": 1
}
